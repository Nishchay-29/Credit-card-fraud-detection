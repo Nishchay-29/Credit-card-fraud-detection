{
  "metadata": {
    "kernelspec": {
      "language": "python",
      "display_name": "Python 3",
      "name": "python3"
    },
    "language_info": {
      "name": "python",
      "version": "3.10.12",
      "mimetype": "text/x-python",
      "codemirror_mode": {
        "name": "ipython",
        "version": 3
      },
      "pygments_lexer": "ipython3",
      "nbconvert_exporter": "python",
      "file_extension": ".py"
    },
    "colab": {
      "provenance": [],
      "include_colab_link": true
    }
  },
  "nbformat_minor": 0,
  "nbformat": 4,
  "cells": [
    {
      "cell_type": "markdown",
      "metadata": {
        "id": "view-in-github",
        "colab_type": "text"
      },
      "source": [
        "<a href=\"https://colab.research.google.com/github/Nishchay-29/Credit-card-fraud-detection/blob/main/Credit_card_fraud_prediction.ipynb\" target=\"_parent\"><img src=\"https://colab.research.google.com/assets/colab-badge.svg\" alt=\"Open In Colab\"/></a>"
      ]
    },
    {
      "cell_type": "code",
      "source": [
        "import numpy as np\n",
        "import pandas as pd\n",
        "import matplotlib.pyplot as plt\n",
        "import seaborn as sns\n",
        "from matplotlib import gridspec\n",
        "from sklearn.model_selection import train_test_split\n",
        "from sklearn.ensemble import RandomForestClassifier\n",
        "from sklearn.metrics import classification_report, accuracy_score\n",
        "from sklearn.metrics import precision_score, recall_score\n",
        "from sklearn.metrics import f1_score, matthews_corrcoef\n",
        "from sklearn.metrics import confusion_matrix"
      ],
      "metadata": {
        "_uuid": "8f2839f25d086af736a60e9eeb907d3b93b6e0e5",
        "_cell_guid": "b1076dfc-b9ad-4769-8c92-a6c4dae69d19",
        "execution": {
          "iopub.status.busy": "2023-09-11T05:58:59.830951Z",
          "iopub.execute_input": "2023-09-11T05:58:59.832029Z",
          "iopub.status.idle": "2023-09-11T05:58:59.839533Z",
          "shell.execute_reply.started": "2023-09-11T05:58:59.831983Z",
          "shell.execute_reply": "2023-09-11T05:58:59.838368Z"
        },
        "trusted": true,
        "id": "Si8D4YZJ0_Q1"
      },
      "execution_count": 1,
      "outputs": []
    },
    {
      "cell_type": "code",
      "source": [
        "data = pd.read_csv('creditcard.csv')\n"
      ],
      "metadata": {
        "execution": {
          "iopub.status.busy": "2023-09-11T05:31:31.624260Z",
          "iopub.execute_input": "2023-09-11T05:31:31.624691Z",
          "iopub.status.idle": "2023-09-11T05:31:37.301588Z",
          "shell.execute_reply.started": "2023-09-11T05:31:31.624646Z",
          "shell.execute_reply": "2023-09-11T05:31:37.300289Z"
        },
        "trusted": true,
        "id": "R4ScVQEm0_RF"
      },
      "execution_count": 2,
      "outputs": []
    },
    {
      "cell_type": "code",
      "source": [
        "data.head()"
      ],
      "metadata": {
        "execution": {
          "iopub.status.busy": "2023-09-11T05:31:41.187985Z",
          "iopub.execute_input": "2023-09-11T05:31:41.188456Z",
          "iopub.status.idle": "2023-09-11T05:31:41.239999Z",
          "shell.execute_reply.started": "2023-09-11T05:31:41.188417Z",
          "shell.execute_reply": "2023-09-11T05:31:41.238691Z"
        },
        "trusted": true,
        "colab": {
          "base_uri": "https://localhost:8080/",
          "height": 255
        },
        "id": "jrNqAL-p0_RH",
        "outputId": "1ac17e47-895f-4fb2-8720-559a8022be11"
      },
      "execution_count": 3,
      "outputs": [
        {
          "output_type": "execute_result",
          "data": {
            "text/plain": [
              "   Time        V1        V2        V3        V4        V5        V6        V7  \\\n",
              "0   0.0 -1.359807 -0.072781  2.536347  1.378155 -0.338321  0.462388  0.239599   \n",
              "1   0.0  1.191857  0.266151  0.166480  0.448154  0.060018 -0.082361 -0.078803   \n",
              "2   1.0 -1.358354 -1.340163  1.773209  0.379780 -0.503198  1.800499  0.791461   \n",
              "3   1.0 -0.966272 -0.185226  1.792993 -0.863291 -0.010309  1.247203  0.237609   \n",
              "4   2.0 -1.158233  0.877737  1.548718  0.403034 -0.407193  0.095921  0.592941   \n",
              "\n",
              "         V8        V9  ...       V21       V22       V23       V24       V25  \\\n",
              "0  0.098698  0.363787  ... -0.018307  0.277838 -0.110474  0.066928  0.128539   \n",
              "1  0.085102 -0.255425  ... -0.225775 -0.638672  0.101288 -0.339846  0.167170   \n",
              "2  0.247676 -1.514654  ...  0.247998  0.771679  0.909412 -0.689281 -0.327642   \n",
              "3  0.377436 -1.387024  ... -0.108300  0.005274 -0.190321 -1.175575  0.647376   \n",
              "4 -0.270533  0.817739  ... -0.009431  0.798278 -0.137458  0.141267 -0.206010   \n",
              "\n",
              "        V26       V27       V28  Amount  Class  \n",
              "0 -0.189115  0.133558 -0.021053  149.62    0.0  \n",
              "1  0.125895 -0.008983  0.014724    2.69    0.0  \n",
              "2 -0.139097 -0.055353 -0.059752  378.66    0.0  \n",
              "3 -0.221929  0.062723  0.061458  123.50    0.0  \n",
              "4  0.502292  0.219422  0.215153   69.99    0.0  \n",
              "\n",
              "[5 rows x 31 columns]"
            ],
            "text/html": [
              "\n",
              "  <div id=\"df-8531c8eb-d579-424c-9177-871ef23d9458\" class=\"colab-df-container\">\n",
              "    <div>\n",
              "<style scoped>\n",
              "    .dataframe tbody tr th:only-of-type {\n",
              "        vertical-align: middle;\n",
              "    }\n",
              "\n",
              "    .dataframe tbody tr th {\n",
              "        vertical-align: top;\n",
              "    }\n",
              "\n",
              "    .dataframe thead th {\n",
              "        text-align: right;\n",
              "    }\n",
              "</style>\n",
              "<table border=\"1\" class=\"dataframe\">\n",
              "  <thead>\n",
              "    <tr style=\"text-align: right;\">\n",
              "      <th></th>\n",
              "      <th>Time</th>\n",
              "      <th>V1</th>\n",
              "      <th>V2</th>\n",
              "      <th>V3</th>\n",
              "      <th>V4</th>\n",
              "      <th>V5</th>\n",
              "      <th>V6</th>\n",
              "      <th>V7</th>\n",
              "      <th>V8</th>\n",
              "      <th>V9</th>\n",
              "      <th>...</th>\n",
              "      <th>V21</th>\n",
              "      <th>V22</th>\n",
              "      <th>V23</th>\n",
              "      <th>V24</th>\n",
              "      <th>V25</th>\n",
              "      <th>V26</th>\n",
              "      <th>V27</th>\n",
              "      <th>V28</th>\n",
              "      <th>Amount</th>\n",
              "      <th>Class</th>\n",
              "    </tr>\n",
              "  </thead>\n",
              "  <tbody>\n",
              "    <tr>\n",
              "      <th>0</th>\n",
              "      <td>0.0</td>\n",
              "      <td>-1.359807</td>\n",
              "      <td>-0.072781</td>\n",
              "      <td>2.536347</td>\n",
              "      <td>1.378155</td>\n",
              "      <td>-0.338321</td>\n",
              "      <td>0.462388</td>\n",
              "      <td>0.239599</td>\n",
              "      <td>0.098698</td>\n",
              "      <td>0.363787</td>\n",
              "      <td>...</td>\n",
              "      <td>-0.018307</td>\n",
              "      <td>0.277838</td>\n",
              "      <td>-0.110474</td>\n",
              "      <td>0.066928</td>\n",
              "      <td>0.128539</td>\n",
              "      <td>-0.189115</td>\n",
              "      <td>0.133558</td>\n",
              "      <td>-0.021053</td>\n",
              "      <td>149.62</td>\n",
              "      <td>0.0</td>\n",
              "    </tr>\n",
              "    <tr>\n",
              "      <th>1</th>\n",
              "      <td>0.0</td>\n",
              "      <td>1.191857</td>\n",
              "      <td>0.266151</td>\n",
              "      <td>0.166480</td>\n",
              "      <td>0.448154</td>\n",
              "      <td>0.060018</td>\n",
              "      <td>-0.082361</td>\n",
              "      <td>-0.078803</td>\n",
              "      <td>0.085102</td>\n",
              "      <td>-0.255425</td>\n",
              "      <td>...</td>\n",
              "      <td>-0.225775</td>\n",
              "      <td>-0.638672</td>\n",
              "      <td>0.101288</td>\n",
              "      <td>-0.339846</td>\n",
              "      <td>0.167170</td>\n",
              "      <td>0.125895</td>\n",
              "      <td>-0.008983</td>\n",
              "      <td>0.014724</td>\n",
              "      <td>2.69</td>\n",
              "      <td>0.0</td>\n",
              "    </tr>\n",
              "    <tr>\n",
              "      <th>2</th>\n",
              "      <td>1.0</td>\n",
              "      <td>-1.358354</td>\n",
              "      <td>-1.340163</td>\n",
              "      <td>1.773209</td>\n",
              "      <td>0.379780</td>\n",
              "      <td>-0.503198</td>\n",
              "      <td>1.800499</td>\n",
              "      <td>0.791461</td>\n",
              "      <td>0.247676</td>\n",
              "      <td>-1.514654</td>\n",
              "      <td>...</td>\n",
              "      <td>0.247998</td>\n",
              "      <td>0.771679</td>\n",
              "      <td>0.909412</td>\n",
              "      <td>-0.689281</td>\n",
              "      <td>-0.327642</td>\n",
              "      <td>-0.139097</td>\n",
              "      <td>-0.055353</td>\n",
              "      <td>-0.059752</td>\n",
              "      <td>378.66</td>\n",
              "      <td>0.0</td>\n",
              "    </tr>\n",
              "    <tr>\n",
              "      <th>3</th>\n",
              "      <td>1.0</td>\n",
              "      <td>-0.966272</td>\n",
              "      <td>-0.185226</td>\n",
              "      <td>1.792993</td>\n",
              "      <td>-0.863291</td>\n",
              "      <td>-0.010309</td>\n",
              "      <td>1.247203</td>\n",
              "      <td>0.237609</td>\n",
              "      <td>0.377436</td>\n",
              "      <td>-1.387024</td>\n",
              "      <td>...</td>\n",
              "      <td>-0.108300</td>\n",
              "      <td>0.005274</td>\n",
              "      <td>-0.190321</td>\n",
              "      <td>-1.175575</td>\n",
              "      <td>0.647376</td>\n",
              "      <td>-0.221929</td>\n",
              "      <td>0.062723</td>\n",
              "      <td>0.061458</td>\n",
              "      <td>123.50</td>\n",
              "      <td>0.0</td>\n",
              "    </tr>\n",
              "    <tr>\n",
              "      <th>4</th>\n",
              "      <td>2.0</td>\n",
              "      <td>-1.158233</td>\n",
              "      <td>0.877737</td>\n",
              "      <td>1.548718</td>\n",
              "      <td>0.403034</td>\n",
              "      <td>-0.407193</td>\n",
              "      <td>0.095921</td>\n",
              "      <td>0.592941</td>\n",
              "      <td>-0.270533</td>\n",
              "      <td>0.817739</td>\n",
              "      <td>...</td>\n",
              "      <td>-0.009431</td>\n",
              "      <td>0.798278</td>\n",
              "      <td>-0.137458</td>\n",
              "      <td>0.141267</td>\n",
              "      <td>-0.206010</td>\n",
              "      <td>0.502292</td>\n",
              "      <td>0.219422</td>\n",
              "      <td>0.215153</td>\n",
              "      <td>69.99</td>\n",
              "      <td>0.0</td>\n",
              "    </tr>\n",
              "  </tbody>\n",
              "</table>\n",
              "<p>5 rows × 31 columns</p>\n",
              "</div>\n",
              "    <div class=\"colab-df-buttons\">\n",
              "\n",
              "  <div class=\"colab-df-container\">\n",
              "    <button class=\"colab-df-convert\" onclick=\"convertToInteractive('df-8531c8eb-d579-424c-9177-871ef23d9458')\"\n",
              "            title=\"Convert this dataframe to an interactive table.\"\n",
              "            style=\"display:none;\">\n",
              "\n",
              "  <svg xmlns=\"http://www.w3.org/2000/svg\" height=\"24px\" viewBox=\"0 -960 960 960\">\n",
              "    <path d=\"M120-120v-720h720v720H120Zm60-500h600v-160H180v160Zm220 220h160v-160H400v160Zm0 220h160v-160H400v160ZM180-400h160v-160H180v160Zm440 0h160v-160H620v160ZM180-180h160v-160H180v160Zm440 0h160v-160H620v160Z\"/>\n",
              "  </svg>\n",
              "    </button>\n",
              "\n",
              "  <style>\n",
              "    .colab-df-container {\n",
              "      display:flex;\n",
              "      gap: 12px;\n",
              "    }\n",
              "\n",
              "    .colab-df-convert {\n",
              "      background-color: #E8F0FE;\n",
              "      border: none;\n",
              "      border-radius: 50%;\n",
              "      cursor: pointer;\n",
              "      display: none;\n",
              "      fill: #1967D2;\n",
              "      height: 32px;\n",
              "      padding: 0 0 0 0;\n",
              "      width: 32px;\n",
              "    }\n",
              "\n",
              "    .colab-df-convert:hover {\n",
              "      background-color: #E2EBFA;\n",
              "      box-shadow: 0px 1px 2px rgba(60, 64, 67, 0.3), 0px 1px 3px 1px rgba(60, 64, 67, 0.15);\n",
              "      fill: #174EA6;\n",
              "    }\n",
              "\n",
              "    .colab-df-buttons div {\n",
              "      margin-bottom: 4px;\n",
              "    }\n",
              "\n",
              "    [theme=dark] .colab-df-convert {\n",
              "      background-color: #3B4455;\n",
              "      fill: #D2E3FC;\n",
              "    }\n",
              "\n",
              "    [theme=dark] .colab-df-convert:hover {\n",
              "      background-color: #434B5C;\n",
              "      box-shadow: 0px 1px 3px 1px rgba(0, 0, 0, 0.15);\n",
              "      filter: drop-shadow(0px 1px 2px rgba(0, 0, 0, 0.3));\n",
              "      fill: #FFFFFF;\n",
              "    }\n",
              "  </style>\n",
              "\n",
              "    <script>\n",
              "      const buttonEl =\n",
              "        document.querySelector('#df-8531c8eb-d579-424c-9177-871ef23d9458 button.colab-df-convert');\n",
              "      buttonEl.style.display =\n",
              "        google.colab.kernel.accessAllowed ? 'block' : 'none';\n",
              "\n",
              "      async function convertToInteractive(key) {\n",
              "        const element = document.querySelector('#df-8531c8eb-d579-424c-9177-871ef23d9458');\n",
              "        const dataTable =\n",
              "          await google.colab.kernel.invokeFunction('convertToInteractive',\n",
              "                                                    [key], {});\n",
              "        if (!dataTable) return;\n",
              "\n",
              "        const docLinkHtml = 'Like what you see? Visit the ' +\n",
              "          '<a target=\"_blank\" href=https://colab.research.google.com/notebooks/data_table.ipynb>data table notebook</a>'\n",
              "          + ' to learn more about interactive tables.';\n",
              "        element.innerHTML = '';\n",
              "        dataTable['output_type'] = 'display_data';\n",
              "        await google.colab.output.renderOutput(dataTable, element);\n",
              "        const docLink = document.createElement('div');\n",
              "        docLink.innerHTML = docLinkHtml;\n",
              "        element.appendChild(docLink);\n",
              "      }\n",
              "    </script>\n",
              "  </div>\n",
              "\n",
              "\n",
              "<div id=\"df-eb35f066-cbc3-4f0b-8037-438e94cdeb73\">\n",
              "  <button class=\"colab-df-quickchart\" onclick=\"quickchart('df-eb35f066-cbc3-4f0b-8037-438e94cdeb73')\"\n",
              "            title=\"Suggest charts\"\n",
              "            style=\"display:none;\">\n",
              "\n",
              "<svg xmlns=\"http://www.w3.org/2000/svg\" height=\"24px\"viewBox=\"0 0 24 24\"\n",
              "     width=\"24px\">\n",
              "    <g>\n",
              "        <path d=\"M19 3H5c-1.1 0-2 .9-2 2v14c0 1.1.9 2 2 2h14c1.1 0 2-.9 2-2V5c0-1.1-.9-2-2-2zM9 17H7v-7h2v7zm4 0h-2V7h2v10zm4 0h-2v-4h2v4z\"/>\n",
              "    </g>\n",
              "</svg>\n",
              "  </button>\n",
              "\n",
              "<style>\n",
              "  .colab-df-quickchart {\n",
              "      --bg-color: #E8F0FE;\n",
              "      --fill-color: #1967D2;\n",
              "      --hover-bg-color: #E2EBFA;\n",
              "      --hover-fill-color: #174EA6;\n",
              "      --disabled-fill-color: #AAA;\n",
              "      --disabled-bg-color: #DDD;\n",
              "  }\n",
              "\n",
              "  [theme=dark] .colab-df-quickchart {\n",
              "      --bg-color: #3B4455;\n",
              "      --fill-color: #D2E3FC;\n",
              "      --hover-bg-color: #434B5C;\n",
              "      --hover-fill-color: #FFFFFF;\n",
              "      --disabled-bg-color: #3B4455;\n",
              "      --disabled-fill-color: #666;\n",
              "  }\n",
              "\n",
              "  .colab-df-quickchart {\n",
              "    background-color: var(--bg-color);\n",
              "    border: none;\n",
              "    border-radius: 50%;\n",
              "    cursor: pointer;\n",
              "    display: none;\n",
              "    fill: var(--fill-color);\n",
              "    height: 32px;\n",
              "    padding: 0;\n",
              "    width: 32px;\n",
              "  }\n",
              "\n",
              "  .colab-df-quickchart:hover {\n",
              "    background-color: var(--hover-bg-color);\n",
              "    box-shadow: 0 1px 2px rgba(60, 64, 67, 0.3), 0 1px 3px 1px rgba(60, 64, 67, 0.15);\n",
              "    fill: var(--button-hover-fill-color);\n",
              "  }\n",
              "\n",
              "  .colab-df-quickchart-complete:disabled,\n",
              "  .colab-df-quickchart-complete:disabled:hover {\n",
              "    background-color: var(--disabled-bg-color);\n",
              "    fill: var(--disabled-fill-color);\n",
              "    box-shadow: none;\n",
              "  }\n",
              "\n",
              "  .colab-df-spinner {\n",
              "    border: 2px solid var(--fill-color);\n",
              "    border-color: transparent;\n",
              "    border-bottom-color: var(--fill-color);\n",
              "    animation:\n",
              "      spin 1s steps(1) infinite;\n",
              "  }\n",
              "\n",
              "  @keyframes spin {\n",
              "    0% {\n",
              "      border-color: transparent;\n",
              "      border-bottom-color: var(--fill-color);\n",
              "      border-left-color: var(--fill-color);\n",
              "    }\n",
              "    20% {\n",
              "      border-color: transparent;\n",
              "      border-left-color: var(--fill-color);\n",
              "      border-top-color: var(--fill-color);\n",
              "    }\n",
              "    30% {\n",
              "      border-color: transparent;\n",
              "      border-left-color: var(--fill-color);\n",
              "      border-top-color: var(--fill-color);\n",
              "      border-right-color: var(--fill-color);\n",
              "    }\n",
              "    40% {\n",
              "      border-color: transparent;\n",
              "      border-right-color: var(--fill-color);\n",
              "      border-top-color: var(--fill-color);\n",
              "    }\n",
              "    60% {\n",
              "      border-color: transparent;\n",
              "      border-right-color: var(--fill-color);\n",
              "    }\n",
              "    80% {\n",
              "      border-color: transparent;\n",
              "      border-right-color: var(--fill-color);\n",
              "      border-bottom-color: var(--fill-color);\n",
              "    }\n",
              "    90% {\n",
              "      border-color: transparent;\n",
              "      border-bottom-color: var(--fill-color);\n",
              "    }\n",
              "  }\n",
              "</style>\n",
              "\n",
              "  <script>\n",
              "    async function quickchart(key) {\n",
              "      const quickchartButtonEl =\n",
              "        document.querySelector('#' + key + ' button');\n",
              "      quickchartButtonEl.disabled = true;  // To prevent multiple clicks.\n",
              "      quickchartButtonEl.classList.add('colab-df-spinner');\n",
              "      try {\n",
              "        const charts = await google.colab.kernel.invokeFunction(\n",
              "            'suggestCharts', [key], {});\n",
              "      } catch (error) {\n",
              "        console.error('Error during call to suggestCharts:', error);\n",
              "      }\n",
              "      quickchartButtonEl.classList.remove('colab-df-spinner');\n",
              "      quickchartButtonEl.classList.add('colab-df-quickchart-complete');\n",
              "    }\n",
              "    (() => {\n",
              "      let quickchartButtonEl =\n",
              "        document.querySelector('#df-eb35f066-cbc3-4f0b-8037-438e94cdeb73 button');\n",
              "      quickchartButtonEl.style.display =\n",
              "        google.colab.kernel.accessAllowed ? 'block' : 'none';\n",
              "    })();\n",
              "  </script>\n",
              "</div>\n",
              "    </div>\n",
              "  </div>\n"
            ]
          },
          "metadata": {},
          "execution_count": 3
        }
      ]
    },
    {
      "cell_type": "code",
      "source": [
        "data.shape"
      ],
      "metadata": {
        "execution": {
          "iopub.status.busy": "2023-09-11T05:32:55.431100Z",
          "iopub.execute_input": "2023-09-11T05:32:55.432421Z",
          "iopub.status.idle": "2023-09-11T05:32:55.440487Z",
          "shell.execute_reply.started": "2023-09-11T05:32:55.432379Z",
          "shell.execute_reply": "2023-09-11T05:32:55.439179Z"
        },
        "trusted": true,
        "colab": {
          "base_uri": "https://localhost:8080/"
        },
        "id": "EmHRQI2Z0_RI",
        "outputId": "31487892-31f3-49d6-e96b-0c15ef9e3d70"
      },
      "execution_count": 4,
      "outputs": [
        {
          "output_type": "execute_result",
          "data": {
            "text/plain": [
              "(261408, 31)"
            ]
          },
          "metadata": {},
          "execution_count": 4
        }
      ]
    },
    {
      "cell_type": "code",
      "source": [
        "data.describe().T"
      ],
      "metadata": {
        "execution": {
          "iopub.status.busy": "2023-09-11T05:33:32.195093Z",
          "iopub.execute_input": "2023-09-11T05:33:32.196256Z",
          "iopub.status.idle": "2023-09-11T05:33:32.670589Z",
          "shell.execute_reply.started": "2023-09-11T05:33:32.196207Z",
          "shell.execute_reply": "2023-09-11T05:33:32.669588Z"
        },
        "trusted": true,
        "colab": {
          "base_uri": "https://localhost:8080/",
          "height": 1000
        },
        "id": "7OzCgdwf0_RJ",
        "outputId": "85eb5639-6dca-43da-de5d-3d15ddad5479"
      },
      "execution_count": 5,
      "outputs": [
        {
          "output_type": "execute_result",
          "data": {
            "text/plain": [
              "           count          mean           std        min           25%  \\\n",
              "Time    261408.0  88468.339959  44336.878816   0.000000  51542.000000   \n",
              "V1      261408.0     -0.019714      1.957101 -56.407510     -0.927896   \n",
              "V2      261408.0     -0.016479      1.660061 -72.715728     -0.608960   \n",
              "V3      261408.0      0.065663      1.508726 -33.680984     -0.780364   \n",
              "V4      261408.0      0.015061      1.415063  -5.683171     -0.842316   \n",
              "V5      261408.0     -0.025850      1.369857 -42.147898     -0.717028   \n",
              "V6      261408.0      0.011847      1.324961 -26.160506     -0.755623   \n",
              "V7      261408.0     -0.011680      1.222973 -43.557242     -0.562317   \n",
              "V8      261408.0      0.000777      1.194840 -73.216718     -0.204268   \n",
              "V9      261408.0      0.000250      1.107244 -13.434066     -0.651622   \n",
              "V10     261408.0      0.000569      1.087423 -24.588262     -0.528554   \n",
              "V11     261408.0      0.025573      1.026583  -4.797473     -0.736835   \n",
              "V12     261407.0     -0.020486      1.020642 -18.683715     -0.427269   \n",
              "V13     261407.0      0.002786      1.005596  -5.791881     -0.653653   \n",
              "V14     261407.0      0.010024      0.963332 -19.214325     -0.412163   \n",
              "V15     261407.0      0.016145      0.923318  -4.498945     -0.570306   \n",
              "V16     261407.0     -0.001542      0.881109 -14.129855     -0.472992   \n",
              "V17     261407.0      0.006886      0.857850 -25.162799     -0.472092   \n",
              "V18     261407.0     -0.010241      0.841477  -9.498746     -0.507211   \n",
              "V19     261407.0     -0.002288      0.816583  -7.213527     -0.465261   \n",
              "V20     261407.0      0.002775      0.775948 -28.009635     -0.209078   \n",
              "V21     261407.0     -0.000551      0.738235 -34.830382     -0.225998   \n",
              "V22     261407.0     -0.006341      0.720084 -10.933144     -0.536493   \n",
              "V23     261407.0     -0.003579      0.631148 -44.807735     -0.163812   \n",
              "V24     261407.0      0.001084      0.605911  -2.836627     -0.351188   \n",
              "V25     261407.0      0.013542      0.517013 -10.295397     -0.300885   \n",
              "V26     261407.0      0.001251      0.483942  -2.604551     -0.328522   \n",
              "V27     261407.0     -0.000562      0.400374 -22.565679     -0.070686   \n",
              "V28     261407.0      0.000636      0.329994 -11.710896     -0.051407   \n",
              "Amount  261407.0     89.947150    249.260194   0.000000      5.990000   \n",
              "Class   261407.0      0.001806      0.042454   0.000000      0.000000   \n",
              "\n",
              "                 50%            75%            max  \n",
              "Time    79412.000000  131341.000000  160001.000000  \n",
              "V1          0.010702       1.282537       2.454930  \n",
              "V2          0.059551       0.785382      22.057729  \n",
              "V3          0.259821       1.076735       9.382558  \n",
              "V4          0.002506       0.776174      16.875344  \n",
              "V5         -0.082466       0.580853      34.801666  \n",
              "V6         -0.258379       0.413905      22.529298  \n",
              "V7          0.026516       0.554617      36.877368  \n",
              "V8          0.026326       0.328703      20.007208  \n",
              "V9         -0.055565       0.604144      15.594995  \n",
              "V10        -0.090566       0.458648      23.745136  \n",
              "V11        -0.012446       0.772038      12.018913  \n",
              "V12         0.127143       0.612638       7.848392  \n",
              "V13        -0.012917       0.668554       4.569009  \n",
              "V14         0.055381       0.497644      10.526766  \n",
              "V15         0.073853       0.676370       5.825654  \n",
              "V16         0.063920       0.527072       8.289890  \n",
              "V17        -0.056390       0.404915       9.253526  \n",
              "V18        -0.013761       0.490910       5.041069  \n",
              "V19        -0.000025       0.463574       5.591971  \n",
              "V20        -0.058657       0.137377      39.420904  \n",
              "V21        -0.030125       0.180817      27.202839  \n",
              "V22         0.003028       0.510090      10.503090  \n",
              "V23        -0.015651       0.140304      22.528412  \n",
              "V24         0.043932       0.435120       4.022866  \n",
              "V25         0.039439       0.359860       7.519589  \n",
              "V26        -0.056823       0.245337       3.517346  \n",
              "V27         0.001824       0.089396      12.152401  \n",
              "V28         0.012935       0.077749      33.847808  \n",
              "Amount     22.810000      79.000000   19656.530000  \n",
              "Class       0.000000       0.000000       1.000000  "
            ],
            "text/html": [
              "\n",
              "  <div id=\"df-8dbfe96e-064d-4dcc-8258-9237ce660d1d\" class=\"colab-df-container\">\n",
              "    <div>\n",
              "<style scoped>\n",
              "    .dataframe tbody tr th:only-of-type {\n",
              "        vertical-align: middle;\n",
              "    }\n",
              "\n",
              "    .dataframe tbody tr th {\n",
              "        vertical-align: top;\n",
              "    }\n",
              "\n",
              "    .dataframe thead th {\n",
              "        text-align: right;\n",
              "    }\n",
              "</style>\n",
              "<table border=\"1\" class=\"dataframe\">\n",
              "  <thead>\n",
              "    <tr style=\"text-align: right;\">\n",
              "      <th></th>\n",
              "      <th>count</th>\n",
              "      <th>mean</th>\n",
              "      <th>std</th>\n",
              "      <th>min</th>\n",
              "      <th>25%</th>\n",
              "      <th>50%</th>\n",
              "      <th>75%</th>\n",
              "      <th>max</th>\n",
              "    </tr>\n",
              "  </thead>\n",
              "  <tbody>\n",
              "    <tr>\n",
              "      <th>Time</th>\n",
              "      <td>261408.0</td>\n",
              "      <td>88468.339959</td>\n",
              "      <td>44336.878816</td>\n",
              "      <td>0.000000</td>\n",
              "      <td>51542.000000</td>\n",
              "      <td>79412.000000</td>\n",
              "      <td>131341.000000</td>\n",
              "      <td>160001.000000</td>\n",
              "    </tr>\n",
              "    <tr>\n",
              "      <th>V1</th>\n",
              "      <td>261408.0</td>\n",
              "      <td>-0.019714</td>\n",
              "      <td>1.957101</td>\n",
              "      <td>-56.407510</td>\n",
              "      <td>-0.927896</td>\n",
              "      <td>0.010702</td>\n",
              "      <td>1.282537</td>\n",
              "      <td>2.454930</td>\n",
              "    </tr>\n",
              "    <tr>\n",
              "      <th>V2</th>\n",
              "      <td>261408.0</td>\n",
              "      <td>-0.016479</td>\n",
              "      <td>1.660061</td>\n",
              "      <td>-72.715728</td>\n",
              "      <td>-0.608960</td>\n",
              "      <td>0.059551</td>\n",
              "      <td>0.785382</td>\n",
              "      <td>22.057729</td>\n",
              "    </tr>\n",
              "    <tr>\n",
              "      <th>V3</th>\n",
              "      <td>261408.0</td>\n",
              "      <td>0.065663</td>\n",
              "      <td>1.508726</td>\n",
              "      <td>-33.680984</td>\n",
              "      <td>-0.780364</td>\n",
              "      <td>0.259821</td>\n",
              "      <td>1.076735</td>\n",
              "      <td>9.382558</td>\n",
              "    </tr>\n",
              "    <tr>\n",
              "      <th>V4</th>\n",
              "      <td>261408.0</td>\n",
              "      <td>0.015061</td>\n",
              "      <td>1.415063</td>\n",
              "      <td>-5.683171</td>\n",
              "      <td>-0.842316</td>\n",
              "      <td>0.002506</td>\n",
              "      <td>0.776174</td>\n",
              "      <td>16.875344</td>\n",
              "    </tr>\n",
              "    <tr>\n",
              "      <th>V5</th>\n",
              "      <td>261408.0</td>\n",
              "      <td>-0.025850</td>\n",
              "      <td>1.369857</td>\n",
              "      <td>-42.147898</td>\n",
              "      <td>-0.717028</td>\n",
              "      <td>-0.082466</td>\n",
              "      <td>0.580853</td>\n",
              "      <td>34.801666</td>\n",
              "    </tr>\n",
              "    <tr>\n",
              "      <th>V6</th>\n",
              "      <td>261408.0</td>\n",
              "      <td>0.011847</td>\n",
              "      <td>1.324961</td>\n",
              "      <td>-26.160506</td>\n",
              "      <td>-0.755623</td>\n",
              "      <td>-0.258379</td>\n",
              "      <td>0.413905</td>\n",
              "      <td>22.529298</td>\n",
              "    </tr>\n",
              "    <tr>\n",
              "      <th>V7</th>\n",
              "      <td>261408.0</td>\n",
              "      <td>-0.011680</td>\n",
              "      <td>1.222973</td>\n",
              "      <td>-43.557242</td>\n",
              "      <td>-0.562317</td>\n",
              "      <td>0.026516</td>\n",
              "      <td>0.554617</td>\n",
              "      <td>36.877368</td>\n",
              "    </tr>\n",
              "    <tr>\n",
              "      <th>V8</th>\n",
              "      <td>261408.0</td>\n",
              "      <td>0.000777</td>\n",
              "      <td>1.194840</td>\n",
              "      <td>-73.216718</td>\n",
              "      <td>-0.204268</td>\n",
              "      <td>0.026326</td>\n",
              "      <td>0.328703</td>\n",
              "      <td>20.007208</td>\n",
              "    </tr>\n",
              "    <tr>\n",
              "      <th>V9</th>\n",
              "      <td>261408.0</td>\n",
              "      <td>0.000250</td>\n",
              "      <td>1.107244</td>\n",
              "      <td>-13.434066</td>\n",
              "      <td>-0.651622</td>\n",
              "      <td>-0.055565</td>\n",
              "      <td>0.604144</td>\n",
              "      <td>15.594995</td>\n",
              "    </tr>\n",
              "    <tr>\n",
              "      <th>V10</th>\n",
              "      <td>261408.0</td>\n",
              "      <td>0.000569</td>\n",
              "      <td>1.087423</td>\n",
              "      <td>-24.588262</td>\n",
              "      <td>-0.528554</td>\n",
              "      <td>-0.090566</td>\n",
              "      <td>0.458648</td>\n",
              "      <td>23.745136</td>\n",
              "    </tr>\n",
              "    <tr>\n",
              "      <th>V11</th>\n",
              "      <td>261408.0</td>\n",
              "      <td>0.025573</td>\n",
              "      <td>1.026583</td>\n",
              "      <td>-4.797473</td>\n",
              "      <td>-0.736835</td>\n",
              "      <td>-0.012446</td>\n",
              "      <td>0.772038</td>\n",
              "      <td>12.018913</td>\n",
              "    </tr>\n",
              "    <tr>\n",
              "      <th>V12</th>\n",
              "      <td>261407.0</td>\n",
              "      <td>-0.020486</td>\n",
              "      <td>1.020642</td>\n",
              "      <td>-18.683715</td>\n",
              "      <td>-0.427269</td>\n",
              "      <td>0.127143</td>\n",
              "      <td>0.612638</td>\n",
              "      <td>7.848392</td>\n",
              "    </tr>\n",
              "    <tr>\n",
              "      <th>V13</th>\n",
              "      <td>261407.0</td>\n",
              "      <td>0.002786</td>\n",
              "      <td>1.005596</td>\n",
              "      <td>-5.791881</td>\n",
              "      <td>-0.653653</td>\n",
              "      <td>-0.012917</td>\n",
              "      <td>0.668554</td>\n",
              "      <td>4.569009</td>\n",
              "    </tr>\n",
              "    <tr>\n",
              "      <th>V14</th>\n",
              "      <td>261407.0</td>\n",
              "      <td>0.010024</td>\n",
              "      <td>0.963332</td>\n",
              "      <td>-19.214325</td>\n",
              "      <td>-0.412163</td>\n",
              "      <td>0.055381</td>\n",
              "      <td>0.497644</td>\n",
              "      <td>10.526766</td>\n",
              "    </tr>\n",
              "    <tr>\n",
              "      <th>V15</th>\n",
              "      <td>261407.0</td>\n",
              "      <td>0.016145</td>\n",
              "      <td>0.923318</td>\n",
              "      <td>-4.498945</td>\n",
              "      <td>-0.570306</td>\n",
              "      <td>0.073853</td>\n",
              "      <td>0.676370</td>\n",
              "      <td>5.825654</td>\n",
              "    </tr>\n",
              "    <tr>\n",
              "      <th>V16</th>\n",
              "      <td>261407.0</td>\n",
              "      <td>-0.001542</td>\n",
              "      <td>0.881109</td>\n",
              "      <td>-14.129855</td>\n",
              "      <td>-0.472992</td>\n",
              "      <td>0.063920</td>\n",
              "      <td>0.527072</td>\n",
              "      <td>8.289890</td>\n",
              "    </tr>\n",
              "    <tr>\n",
              "      <th>V17</th>\n",
              "      <td>261407.0</td>\n",
              "      <td>0.006886</td>\n",
              "      <td>0.857850</td>\n",
              "      <td>-25.162799</td>\n",
              "      <td>-0.472092</td>\n",
              "      <td>-0.056390</td>\n",
              "      <td>0.404915</td>\n",
              "      <td>9.253526</td>\n",
              "    </tr>\n",
              "    <tr>\n",
              "      <th>V18</th>\n",
              "      <td>261407.0</td>\n",
              "      <td>-0.010241</td>\n",
              "      <td>0.841477</td>\n",
              "      <td>-9.498746</td>\n",
              "      <td>-0.507211</td>\n",
              "      <td>-0.013761</td>\n",
              "      <td>0.490910</td>\n",
              "      <td>5.041069</td>\n",
              "    </tr>\n",
              "    <tr>\n",
              "      <th>V19</th>\n",
              "      <td>261407.0</td>\n",
              "      <td>-0.002288</td>\n",
              "      <td>0.816583</td>\n",
              "      <td>-7.213527</td>\n",
              "      <td>-0.465261</td>\n",
              "      <td>-0.000025</td>\n",
              "      <td>0.463574</td>\n",
              "      <td>5.591971</td>\n",
              "    </tr>\n",
              "    <tr>\n",
              "      <th>V20</th>\n",
              "      <td>261407.0</td>\n",
              "      <td>0.002775</td>\n",
              "      <td>0.775948</td>\n",
              "      <td>-28.009635</td>\n",
              "      <td>-0.209078</td>\n",
              "      <td>-0.058657</td>\n",
              "      <td>0.137377</td>\n",
              "      <td>39.420904</td>\n",
              "    </tr>\n",
              "    <tr>\n",
              "      <th>V21</th>\n",
              "      <td>261407.0</td>\n",
              "      <td>-0.000551</td>\n",
              "      <td>0.738235</td>\n",
              "      <td>-34.830382</td>\n",
              "      <td>-0.225998</td>\n",
              "      <td>-0.030125</td>\n",
              "      <td>0.180817</td>\n",
              "      <td>27.202839</td>\n",
              "    </tr>\n",
              "    <tr>\n",
              "      <th>V22</th>\n",
              "      <td>261407.0</td>\n",
              "      <td>-0.006341</td>\n",
              "      <td>0.720084</td>\n",
              "      <td>-10.933144</td>\n",
              "      <td>-0.536493</td>\n",
              "      <td>0.003028</td>\n",
              "      <td>0.510090</td>\n",
              "      <td>10.503090</td>\n",
              "    </tr>\n",
              "    <tr>\n",
              "      <th>V23</th>\n",
              "      <td>261407.0</td>\n",
              "      <td>-0.003579</td>\n",
              "      <td>0.631148</td>\n",
              "      <td>-44.807735</td>\n",
              "      <td>-0.163812</td>\n",
              "      <td>-0.015651</td>\n",
              "      <td>0.140304</td>\n",
              "      <td>22.528412</td>\n",
              "    </tr>\n",
              "    <tr>\n",
              "      <th>V24</th>\n",
              "      <td>261407.0</td>\n",
              "      <td>0.001084</td>\n",
              "      <td>0.605911</td>\n",
              "      <td>-2.836627</td>\n",
              "      <td>-0.351188</td>\n",
              "      <td>0.043932</td>\n",
              "      <td>0.435120</td>\n",
              "      <td>4.022866</td>\n",
              "    </tr>\n",
              "    <tr>\n",
              "      <th>V25</th>\n",
              "      <td>261407.0</td>\n",
              "      <td>0.013542</td>\n",
              "      <td>0.517013</td>\n",
              "      <td>-10.295397</td>\n",
              "      <td>-0.300885</td>\n",
              "      <td>0.039439</td>\n",
              "      <td>0.359860</td>\n",
              "      <td>7.519589</td>\n",
              "    </tr>\n",
              "    <tr>\n",
              "      <th>V26</th>\n",
              "      <td>261407.0</td>\n",
              "      <td>0.001251</td>\n",
              "      <td>0.483942</td>\n",
              "      <td>-2.604551</td>\n",
              "      <td>-0.328522</td>\n",
              "      <td>-0.056823</td>\n",
              "      <td>0.245337</td>\n",
              "      <td>3.517346</td>\n",
              "    </tr>\n",
              "    <tr>\n",
              "      <th>V27</th>\n",
              "      <td>261407.0</td>\n",
              "      <td>-0.000562</td>\n",
              "      <td>0.400374</td>\n",
              "      <td>-22.565679</td>\n",
              "      <td>-0.070686</td>\n",
              "      <td>0.001824</td>\n",
              "      <td>0.089396</td>\n",
              "      <td>12.152401</td>\n",
              "    </tr>\n",
              "    <tr>\n",
              "      <th>V28</th>\n",
              "      <td>261407.0</td>\n",
              "      <td>0.000636</td>\n",
              "      <td>0.329994</td>\n",
              "      <td>-11.710896</td>\n",
              "      <td>-0.051407</td>\n",
              "      <td>0.012935</td>\n",
              "      <td>0.077749</td>\n",
              "      <td>33.847808</td>\n",
              "    </tr>\n",
              "    <tr>\n",
              "      <th>Amount</th>\n",
              "      <td>261407.0</td>\n",
              "      <td>89.947150</td>\n",
              "      <td>249.260194</td>\n",
              "      <td>0.000000</td>\n",
              "      <td>5.990000</td>\n",
              "      <td>22.810000</td>\n",
              "      <td>79.000000</td>\n",
              "      <td>19656.530000</td>\n",
              "    </tr>\n",
              "    <tr>\n",
              "      <th>Class</th>\n",
              "      <td>261407.0</td>\n",
              "      <td>0.001806</td>\n",
              "      <td>0.042454</td>\n",
              "      <td>0.000000</td>\n",
              "      <td>0.000000</td>\n",
              "      <td>0.000000</td>\n",
              "      <td>0.000000</td>\n",
              "      <td>1.000000</td>\n",
              "    </tr>\n",
              "  </tbody>\n",
              "</table>\n",
              "</div>\n",
              "    <div class=\"colab-df-buttons\">\n",
              "\n",
              "  <div class=\"colab-df-container\">\n",
              "    <button class=\"colab-df-convert\" onclick=\"convertToInteractive('df-8dbfe96e-064d-4dcc-8258-9237ce660d1d')\"\n",
              "            title=\"Convert this dataframe to an interactive table.\"\n",
              "            style=\"display:none;\">\n",
              "\n",
              "  <svg xmlns=\"http://www.w3.org/2000/svg\" height=\"24px\" viewBox=\"0 -960 960 960\">\n",
              "    <path d=\"M120-120v-720h720v720H120Zm60-500h600v-160H180v160Zm220 220h160v-160H400v160Zm0 220h160v-160H400v160ZM180-400h160v-160H180v160Zm440 0h160v-160H620v160ZM180-180h160v-160H180v160Zm440 0h160v-160H620v160Z\"/>\n",
              "  </svg>\n",
              "    </button>\n",
              "\n",
              "  <style>\n",
              "    .colab-df-container {\n",
              "      display:flex;\n",
              "      gap: 12px;\n",
              "    }\n",
              "\n",
              "    .colab-df-convert {\n",
              "      background-color: #E8F0FE;\n",
              "      border: none;\n",
              "      border-radius: 50%;\n",
              "      cursor: pointer;\n",
              "      display: none;\n",
              "      fill: #1967D2;\n",
              "      height: 32px;\n",
              "      padding: 0 0 0 0;\n",
              "      width: 32px;\n",
              "    }\n",
              "\n",
              "    .colab-df-convert:hover {\n",
              "      background-color: #E2EBFA;\n",
              "      box-shadow: 0px 1px 2px rgba(60, 64, 67, 0.3), 0px 1px 3px 1px rgba(60, 64, 67, 0.15);\n",
              "      fill: #174EA6;\n",
              "    }\n",
              "\n",
              "    .colab-df-buttons div {\n",
              "      margin-bottom: 4px;\n",
              "    }\n",
              "\n",
              "    [theme=dark] .colab-df-convert {\n",
              "      background-color: #3B4455;\n",
              "      fill: #D2E3FC;\n",
              "    }\n",
              "\n",
              "    [theme=dark] .colab-df-convert:hover {\n",
              "      background-color: #434B5C;\n",
              "      box-shadow: 0px 1px 3px 1px rgba(0, 0, 0, 0.15);\n",
              "      filter: drop-shadow(0px 1px 2px rgba(0, 0, 0, 0.3));\n",
              "      fill: #FFFFFF;\n",
              "    }\n",
              "  </style>\n",
              "\n",
              "    <script>\n",
              "      const buttonEl =\n",
              "        document.querySelector('#df-8dbfe96e-064d-4dcc-8258-9237ce660d1d button.colab-df-convert');\n",
              "      buttonEl.style.display =\n",
              "        google.colab.kernel.accessAllowed ? 'block' : 'none';\n",
              "\n",
              "      async function convertToInteractive(key) {\n",
              "        const element = document.querySelector('#df-8dbfe96e-064d-4dcc-8258-9237ce660d1d');\n",
              "        const dataTable =\n",
              "          await google.colab.kernel.invokeFunction('convertToInteractive',\n",
              "                                                    [key], {});\n",
              "        if (!dataTable) return;\n",
              "\n",
              "        const docLinkHtml = 'Like what you see? Visit the ' +\n",
              "          '<a target=\"_blank\" href=https://colab.research.google.com/notebooks/data_table.ipynb>data table notebook</a>'\n",
              "          + ' to learn more about interactive tables.';\n",
              "        element.innerHTML = '';\n",
              "        dataTable['output_type'] = 'display_data';\n",
              "        await google.colab.output.renderOutput(dataTable, element);\n",
              "        const docLink = document.createElement('div');\n",
              "        docLink.innerHTML = docLinkHtml;\n",
              "        element.appendChild(docLink);\n",
              "      }\n",
              "    </script>\n",
              "  </div>\n",
              "\n",
              "\n",
              "<div id=\"df-b250c655-d85e-474b-a41b-2d9c57dae079\">\n",
              "  <button class=\"colab-df-quickchart\" onclick=\"quickchart('df-b250c655-d85e-474b-a41b-2d9c57dae079')\"\n",
              "            title=\"Suggest charts\"\n",
              "            style=\"display:none;\">\n",
              "\n",
              "<svg xmlns=\"http://www.w3.org/2000/svg\" height=\"24px\"viewBox=\"0 0 24 24\"\n",
              "     width=\"24px\">\n",
              "    <g>\n",
              "        <path d=\"M19 3H5c-1.1 0-2 .9-2 2v14c0 1.1.9 2 2 2h14c1.1 0 2-.9 2-2V5c0-1.1-.9-2-2-2zM9 17H7v-7h2v7zm4 0h-2V7h2v10zm4 0h-2v-4h2v4z\"/>\n",
              "    </g>\n",
              "</svg>\n",
              "  </button>\n",
              "\n",
              "<style>\n",
              "  .colab-df-quickchart {\n",
              "      --bg-color: #E8F0FE;\n",
              "      --fill-color: #1967D2;\n",
              "      --hover-bg-color: #E2EBFA;\n",
              "      --hover-fill-color: #174EA6;\n",
              "      --disabled-fill-color: #AAA;\n",
              "      --disabled-bg-color: #DDD;\n",
              "  }\n",
              "\n",
              "  [theme=dark] .colab-df-quickchart {\n",
              "      --bg-color: #3B4455;\n",
              "      --fill-color: #D2E3FC;\n",
              "      --hover-bg-color: #434B5C;\n",
              "      --hover-fill-color: #FFFFFF;\n",
              "      --disabled-bg-color: #3B4455;\n",
              "      --disabled-fill-color: #666;\n",
              "  }\n",
              "\n",
              "  .colab-df-quickchart {\n",
              "    background-color: var(--bg-color);\n",
              "    border: none;\n",
              "    border-radius: 50%;\n",
              "    cursor: pointer;\n",
              "    display: none;\n",
              "    fill: var(--fill-color);\n",
              "    height: 32px;\n",
              "    padding: 0;\n",
              "    width: 32px;\n",
              "  }\n",
              "\n",
              "  .colab-df-quickchart:hover {\n",
              "    background-color: var(--hover-bg-color);\n",
              "    box-shadow: 0 1px 2px rgba(60, 64, 67, 0.3), 0 1px 3px 1px rgba(60, 64, 67, 0.15);\n",
              "    fill: var(--button-hover-fill-color);\n",
              "  }\n",
              "\n",
              "  .colab-df-quickchart-complete:disabled,\n",
              "  .colab-df-quickchart-complete:disabled:hover {\n",
              "    background-color: var(--disabled-bg-color);\n",
              "    fill: var(--disabled-fill-color);\n",
              "    box-shadow: none;\n",
              "  }\n",
              "\n",
              "  .colab-df-spinner {\n",
              "    border: 2px solid var(--fill-color);\n",
              "    border-color: transparent;\n",
              "    border-bottom-color: var(--fill-color);\n",
              "    animation:\n",
              "      spin 1s steps(1) infinite;\n",
              "  }\n",
              "\n",
              "  @keyframes spin {\n",
              "    0% {\n",
              "      border-color: transparent;\n",
              "      border-bottom-color: var(--fill-color);\n",
              "      border-left-color: var(--fill-color);\n",
              "    }\n",
              "    20% {\n",
              "      border-color: transparent;\n",
              "      border-left-color: var(--fill-color);\n",
              "      border-top-color: var(--fill-color);\n",
              "    }\n",
              "    30% {\n",
              "      border-color: transparent;\n",
              "      border-left-color: var(--fill-color);\n",
              "      border-top-color: var(--fill-color);\n",
              "      border-right-color: var(--fill-color);\n",
              "    }\n",
              "    40% {\n",
              "      border-color: transparent;\n",
              "      border-right-color: var(--fill-color);\n",
              "      border-top-color: var(--fill-color);\n",
              "    }\n",
              "    60% {\n",
              "      border-color: transparent;\n",
              "      border-right-color: var(--fill-color);\n",
              "    }\n",
              "    80% {\n",
              "      border-color: transparent;\n",
              "      border-right-color: var(--fill-color);\n",
              "      border-bottom-color: var(--fill-color);\n",
              "    }\n",
              "    90% {\n",
              "      border-color: transparent;\n",
              "      border-bottom-color: var(--fill-color);\n",
              "    }\n",
              "  }\n",
              "</style>\n",
              "\n",
              "  <script>\n",
              "    async function quickchart(key) {\n",
              "      const quickchartButtonEl =\n",
              "        document.querySelector('#' + key + ' button');\n",
              "      quickchartButtonEl.disabled = true;  // To prevent multiple clicks.\n",
              "      quickchartButtonEl.classList.add('colab-df-spinner');\n",
              "      try {\n",
              "        const charts = await google.colab.kernel.invokeFunction(\n",
              "            'suggestCharts', [key], {});\n",
              "      } catch (error) {\n",
              "        console.error('Error during call to suggestCharts:', error);\n",
              "      }\n",
              "      quickchartButtonEl.classList.remove('colab-df-spinner');\n",
              "      quickchartButtonEl.classList.add('colab-df-quickchart-complete');\n",
              "    }\n",
              "    (() => {\n",
              "      let quickchartButtonEl =\n",
              "        document.querySelector('#df-b250c655-d85e-474b-a41b-2d9c57dae079 button');\n",
              "      quickchartButtonEl.style.display =\n",
              "        google.colab.kernel.accessAllowed ? 'block' : 'none';\n",
              "    })();\n",
              "  </script>\n",
              "</div>\n",
              "    </div>\n",
              "  </div>\n"
            ]
          },
          "metadata": {},
          "execution_count": 5
        }
      ]
    },
    {
      "cell_type": "code",
      "source": [
        "data.info()"
      ],
      "metadata": {
        "colab": {
          "base_uri": "https://localhost:8080/"
        },
        "id": "nRq1eOWcHWNc",
        "outputId": "132a16c6-00ef-4ac0-87da-40a4f3221a9b"
      },
      "execution_count": 6,
      "outputs": [
        {
          "output_type": "stream",
          "name": "stdout",
          "text": [
            "<class 'pandas.core.frame.DataFrame'>\n",
            "RangeIndex: 261408 entries, 0 to 261407\n",
            "Data columns (total 31 columns):\n",
            " #   Column  Non-Null Count   Dtype  \n",
            "---  ------  --------------   -----  \n",
            " 0   Time    261408 non-null  float64\n",
            " 1   V1      261408 non-null  float64\n",
            " 2   V2      261408 non-null  float64\n",
            " 3   V3      261408 non-null  float64\n",
            " 4   V4      261408 non-null  float64\n",
            " 5   V5      261408 non-null  float64\n",
            " 6   V6      261408 non-null  float64\n",
            " 7   V7      261408 non-null  float64\n",
            " 8   V8      261408 non-null  float64\n",
            " 9   V9      261408 non-null  float64\n",
            " 10  V10     261408 non-null  float64\n",
            " 11  V11     261408 non-null  float64\n",
            " 12  V12     261407 non-null  float64\n",
            " 13  V13     261407 non-null  float64\n",
            " 14  V14     261407 non-null  float64\n",
            " 15  V15     261407 non-null  float64\n",
            " 16  V16     261407 non-null  float64\n",
            " 17  V17     261407 non-null  float64\n",
            " 18  V18     261407 non-null  float64\n",
            " 19  V19     261407 non-null  float64\n",
            " 20  V20     261407 non-null  float64\n",
            " 21  V21     261407 non-null  float64\n",
            " 22  V22     261407 non-null  float64\n",
            " 23  V23     261407 non-null  float64\n",
            " 24  V24     261407 non-null  float64\n",
            " 25  V25     261407 non-null  float64\n",
            " 26  V26     261407 non-null  float64\n",
            " 27  V27     261407 non-null  float64\n",
            " 28  V28     261407 non-null  float64\n",
            " 29  Amount  261407 non-null  float64\n",
            " 30  Class   261407 non-null  float64\n",
            "dtypes: float64(31)\n",
            "memory usage: 61.8 MB\n"
          ]
        }
      ]
    },
    {
      "cell_type": "code",
      "source": [
        "fraud = data[data.Class == 1]\n",
        "valid = data[data.Class == 0]\n",
        "outlierFraction = len(fraud) / float(len(valid))\n",
        "outlierFraction"
      ],
      "metadata": {
        "execution": {
          "iopub.status.busy": "2023-09-11T05:35:55.747178Z",
          "iopub.execute_input": "2023-09-11T05:35:55.747562Z",
          "iopub.status.idle": "2023-09-11T05:35:55.793976Z",
          "shell.execute_reply.started": "2023-09-11T05:35:55.747531Z",
          "shell.execute_reply": "2023-09-11T05:35:55.792721Z"
        },
        "trusted": true,
        "colab": {
          "base_uri": "https://localhost:8080/"
        },
        "id": "SqR5WVp30_RK",
        "outputId": "ffe70131-9220-4691-f945-76807bbeb8de"
      },
      "execution_count": 7,
      "outputs": [
        {
          "output_type": "execute_result",
          "data": {
            "text/plain": [
              "0.0018088796060321535"
            ]
          },
          "metadata": {},
          "execution_count": 7
        }
      ]
    },
    {
      "cell_type": "code",
      "source": [
        "print(f'Fraud Cases: {len(fraud)}')\n",
        "print(f'Valid Transactions: {len(valid)}')"
      ],
      "metadata": {
        "execution": {
          "iopub.status.busy": "2023-09-11T05:38:50.731900Z",
          "iopub.execute_input": "2023-09-11T05:38:50.732349Z",
          "iopub.status.idle": "2023-09-11T05:38:50.738706Z",
          "shell.execute_reply.started": "2023-09-11T05:38:50.732318Z",
          "shell.execute_reply": "2023-09-11T05:38:50.737285Z"
        },
        "trusted": true,
        "colab": {
          "base_uri": "https://localhost:8080/"
        },
        "id": "jIe_3tov0_RM",
        "outputId": "02858526-90a6-4598-d42c-6375d42468a5"
      },
      "execution_count": 8,
      "outputs": [
        {
          "output_type": "stream",
          "name": "stdout",
          "text": [
            "Fraud Cases: 472\n",
            "Valid Transactions: 260935\n"
          ]
        }
      ]
    },
    {
      "cell_type": "code",
      "source": [
        "fraud.Amount.describe()"
      ],
      "metadata": {
        "execution": {
          "iopub.status.busy": "2023-09-11T05:40:15.796982Z",
          "iopub.execute_input": "2023-09-11T05:40:15.798161Z",
          "iopub.status.idle": "2023-09-11T05:40:15.810811Z",
          "shell.execute_reply.started": "2023-09-11T05:40:15.798106Z",
          "shell.execute_reply": "2023-09-11T05:40:15.809228Z"
        },
        "trusted": true,
        "colab": {
          "base_uri": "https://localhost:8080/"
        },
        "id": "8-VaPFRq0_RN",
        "outputId": "f64c372f-3521-481c-fe0b-fa01de2212e0"
      },
      "execution_count": 9,
      "outputs": [
        {
          "output_type": "execute_result",
          "data": {
            "text/plain": [
              "count     472.000000\n",
              "mean      122.840297\n",
              "std       259.787832\n",
              "min         0.000000\n",
              "25%         1.000000\n",
              "50%         9.015000\n",
              "75%       105.080000\n",
              "max      2125.870000\n",
              "Name: Amount, dtype: float64"
            ]
          },
          "metadata": {},
          "execution_count": 9
        }
      ]
    },
    {
      "cell_type": "code",
      "source": [
        "valid.Amount.describe()"
      ],
      "metadata": {
        "execution": {
          "iopub.status.busy": "2023-09-11T05:41:02.177147Z",
          "iopub.execute_input": "2023-09-11T05:41:02.177543Z",
          "iopub.status.idle": "2023-09-11T05:41:02.202444Z",
          "shell.execute_reply.started": "2023-09-11T05:41:02.177509Z",
          "shell.execute_reply": "2023-09-11T05:41:02.201228Z"
        },
        "trusted": true,
        "colab": {
          "base_uri": "https://localhost:8080/"
        },
        "id": "new71kwf0_RP",
        "outputId": "c846feeb-b691-490d-e7d3-765a62a4b88b"
      },
      "execution_count": 10,
      "outputs": [
        {
          "output_type": "execute_result",
          "data": {
            "text/plain": [
              "count    260935.000000\n",
              "mean         89.887650\n",
              "std         249.237334\n",
              "min           0.000000\n",
              "25%           5.990000\n",
              "50%          22.820000\n",
              "75%          79.000000\n",
              "max       19656.530000\n",
              "Name: Amount, dtype: float64"
            ]
          },
          "metadata": {},
          "execution_count": 10
        }
      ]
    },
    {
      "cell_type": "code",
      "source": [
        "corrmat = data.corr()\n",
        "fig = plt.figure(figsize = (12, 9))\n",
        "sns.heatmap(corrmat, vmax = .8, square = True)\n",
        "plt.show()"
      ],
      "metadata": {
        "execution": {
          "iopub.status.busy": "2023-09-11T05:44:27.350905Z",
          "iopub.execute_input": "2023-09-11T05:44:27.351296Z",
          "iopub.status.idle": "2023-09-11T05:44:28.930005Z",
          "shell.execute_reply.started": "2023-09-11T05:44:27.351266Z",
          "shell.execute_reply": "2023-09-11T05:44:28.928556Z"
        },
        "trusted": true,
        "colab": {
          "base_uri": "https://localhost:8080/",
          "height": 762
        },
        "id": "MTuKxArO0_RQ",
        "outputId": "f69ef80b-ec44-48e7-c08e-aa4aaad8e0d1"
      },
      "execution_count": 11,
      "outputs": [
        {
          "output_type": "display_data",
          "data": {
            "text/plain": [
              "<Figure size 1200x900 with 2 Axes>"
            ],
            "image/png": "[encoded data removed]"
          },
          "metadata": {}
        }
      ]
    },
    {
      "cell_type": "code",
      "source": [
        "data.isnull().sum()"
      ],
      "metadata": {
        "colab": {
          "base_uri": "https://localhost:8080/"
        },
        "id": "z32Ce-lWoaaj",
        "outputId": "3a935409-42f2-4c00-8cc2-11e9ccafbb3a"
      },
      "execution_count": 28,
      "outputs": [
        {
          "output_type": "execute_result",
          "data": {
            "text/plain": [
              "Time      0\n",
              "V1        0\n",
              "V2        0\n",
              "V3        0\n",
              "V4        0\n",
              "V5        0\n",
              "V6        0\n",
              "V7        0\n",
              "V8        0\n",
              "V9        0\n",
              "V10       0\n",
              "V11       0\n",
              "V12       0\n",
              "V13       0\n",
              "V14       0\n",
              "V15       0\n",
              "V16       0\n",
              "V17       0\n",
              "V18       0\n",
              "V19       0\n",
              "V20       0\n",
              "V21       0\n",
              "V22       0\n",
              "V23       0\n",
              "V24       0\n",
              "V25       0\n",
              "V26       0\n",
              "V27       0\n",
              "V28       0\n",
              "Amount    0\n",
              "Class     0\n",
              "dtype: int64"
            ]
          },
          "metadata": {},
          "execution_count": 28
        }
      ]
    },
    {
      "cell_type": "code",
      "source": [
        "data = data.dropna()"
      ],
      "metadata": {
        "id": "Vwt93upsoxbJ"
      },
      "execution_count": 27,
      "outputs": []
    },
    {
      "cell_type": "code",
      "source": [
        "X = data.drop(['Class'], axis = 1)\n",
        "y = data.Class\n",
        "X.shape, y.shape"
      ],
      "metadata": {
        "execution": {
          "iopub.status.busy": "2023-09-11T05:48:35.117912Z",
          "iopub.execute_input": "2023-09-11T05:48:35.118515Z",
          "iopub.status.idle": "2023-09-11T05:48:35.151146Z",
          "shell.execute_reply.started": "2023-09-11T05:48:35.118477Z",
          "shell.execute_reply": "2023-09-11T05:48:35.150047Z"
        },
        "trusted": true,
        "colab": {
          "base_uri": "https://localhost:8080/"
        },
        "id": "DrquJDCj0_RS",
        "outputId": "5c04481a-25af-4006-c730-b8daa75a2a00"
      },
      "execution_count": 29,
      "outputs": [
        {
          "output_type": "execute_result",
          "data": {
            "text/plain": [
              "((261407, 30), (261407,))"
            ]
          },
          "metadata": {},
          "execution_count": 29
        }
      ]
    },
    {
      "cell_type": "code",
      "source": [
        "X_data = X.values\n",
        "y_data = y.values"
      ],
      "metadata": {
        "execution": {
          "iopub.status.busy": "2023-09-11T05:48:57.778319Z",
          "iopub.execute_input": "2023-09-11T05:48:57.778766Z",
          "iopub.status.idle": "2023-09-11T05:48:57.784332Z",
          "shell.execute_reply.started": "2023-09-11T05:48:57.778725Z",
          "shell.execute_reply": "2023-09-11T05:48:57.782873Z"
        },
        "trusted": true,
        "id": "oECK0JGN0_RU"
      },
      "execution_count": 30,
      "outputs": []
    },
    {
      "cell_type": "code",
      "source": [
        "X_train, X_test, y_train, y_test = train_test_split(X_data, y_data, test_size = .2,\n",
        "                                                   random_state = 42)"
      ],
      "metadata": {
        "execution": {
          "iopub.status.busy": "2023-09-11T05:51:32.794563Z",
          "iopub.execute_input": "2023-09-11T05:51:32.795857Z",
          "iopub.status.idle": "2023-09-11T05:51:32.926447Z",
          "shell.execute_reply.started": "2023-09-11T05:51:32.795809Z",
          "shell.execute_reply": "2023-09-11T05:51:32.925181Z"
        },
        "trusted": true,
        "id": "4NQq1v8g0_RV"
      },
      "execution_count": 31,
      "outputs": []
    },
    {
      "cell_type": "code",
      "source": [
        "rfc = RandomForestClassifier()"
      ],
      "metadata": {
        "execution": {
          "iopub.status.busy": "2023-09-11T05:53:11.235512Z",
          "iopub.execute_input": "2023-09-11T05:53:11.236517Z",
          "iopub.status.idle": "2023-09-11T05:53:11.241099Z",
          "shell.execute_reply.started": "2023-09-11T05:53:11.236471Z",
          "shell.execute_reply": "2023-09-11T05:53:11.240098Z"
        },
        "trusted": true,
        "id": "U8qIedk70_RW"
      },
      "execution_count": 32,
      "outputs": []
    },
    {
      "cell_type": "code",
      "source": [
        "X_train"
      ],
      "metadata": {
        "colab": {
          "base_uri": "https://localhost:8080/"
        },
        "id": "Q1tgezvhHBFO",
        "outputId": "28dd1e6c-7ea9-4c98-a5ea-bcad4d6df78a"
      },
      "execution_count": 33,
      "outputs": [
        {
          "output_type": "execute_result",
          "data": {
            "text/plain": [
              "array([[ 1.49985000e+05, -9.41572787e-01,  1.06068530e+00, ...,\n",
              "        -3.28323622e-01, -1.90010196e-01,  2.00000000e+00],\n",
              "       [ 6.61990000e+04,  1.45179558e+00, -1.05233605e+00, ...,\n",
              "         3.29037928e-02,  1.51484374e-02,  6.45000000e+01],\n",
              "       [ 1.25421000e+05,  2.09192976e+00,  7.03071121e-02, ...,\n",
              "        -3.86772900e-03, -5.91122878e-02,  1.00000000e+00],\n",
              "       ...,\n",
              "       [ 7.97950000e+04, -1.46608925e-01,  9.92946123e-01, ...,\n",
              "        -1.21139194e-01, -1.96195328e-01,  3.94000000e+00],\n",
              "       [ 8.79310000e+04, -2.94863809e+00,  2.35484929e+00, ...,\n",
              "         4.96912107e-01,  3.35821632e-01,  1.00000000e+00],\n",
              "       [ 7.63810000e+04,  1.23317435e+00, -7.84850501e-01, ...,\n",
              "         1.21657270e-03,  3.85878912e-02,  1.13000000e+02]])"
            ]
          },
          "metadata": {},
          "execution_count": 33
        }
      ]
    },
    {
      "cell_type": "code",
      "source": [
        "y_train"
      ],
      "metadata": {
        "colab": {
          "base_uri": "https://localhost:8080/"
        },
        "id": "G61vwPOxHIfW",
        "outputId": "5aaac6d8-4e50-4e5a-ca1a-33830b31481d"
      },
      "execution_count": 34,
      "outputs": [
        {
          "output_type": "execute_result",
          "data": {
            "text/plain": [
              "array([0., 0., 0., ..., 0., 0., 0.])"
            ]
          },
          "metadata": {},
          "execution_count": 34
        }
      ]
    },
    {
      "cell_type": "code",
      "source": [
        "rfc.fit(X_train, y_train)"
      ],
      "metadata": {
        "execution": {
          "iopub.status.busy": "2023-09-11T05:53:36.438754Z",
          "iopub.execute_input": "2023-09-11T05:53:36.439153Z",
          "iopub.status.idle": "2023-09-11T05:58:59.474211Z",
          "shell.execute_reply.started": "2023-09-11T05:53:36.439122Z",
          "shell.execute_reply": "2023-09-11T05:58:59.472983Z"
        },
        "trusted": true,
        "colab": {
          "base_uri": "https://localhost:8080/",
          "height": 74
        },
        "id": "1F683PbZ0_RX",
        "outputId": "ffb08fd4-a2df-48d2-baf0-4bd6dc7854a4"
      },
      "execution_count": 35,
      "outputs": [
        {
          "output_type": "execute_result",
          "data": {
            "text/plain": [
              "RandomForestClassifier()"
            ],
            "text/html": [
              "<style>#sk-container-id-1 {color: black;background-color: white;}#sk-container-id-1 pre{padding: 0;}#sk-container-id-1 div.sk-toggleable {background-color: white;}#sk-container-id-1 label.sk-toggleable__label {cursor: pointer;display: block;width: 100%;margin-bottom: 0;padding: 0.3em;box-sizing: border-box;text-align: center;}#sk-container-id-1 label.sk-toggleable__label-arrow:before {content: \"▸\";float: left;margin-right: 0.25em;color: #696969;}#sk-container-id-1 label.sk-toggleable__label-arrow:hover:before {color: black;}#sk-container-id-1 div.sk-estimator:hover label.sk-toggleable__label-arrow:before {color: black;}#sk-container-id-1 div.sk-toggleable__content {max-height: 0;max-width: 0;overflow: hidden;text-align: left;background-color: #f0f8ff;}#sk-container-id-1 div.sk-toggleable__content pre {margin: 0.2em;color: black;border-radius: 0.25em;background-color: #f0f8ff;}#sk-container-id-1 input.sk-toggleable__control:checked~div.sk-toggleable__content {max-height: 200px;max-width: 100%;overflow: auto;}#sk-container-id-1 input.sk-toggleable__control:checked~label.sk-toggleable__label-arrow:before {content: \"▾\";}#sk-container-id-1 div.sk-estimator input.sk-toggleable__control:checked~label.sk-toggleable__label {background-color: #d4ebff;}#sk-container-id-1 div.sk-label input.sk-toggleable__control:checked~label.sk-toggleable__label {background-color: #d4ebff;}#sk-container-id-1 input.sk-hidden--visually {border: 0;clip: rect(1px 1px 1px 1px);clip: rect(1px, 1px, 1px, 1px);height: 1px;margin: -1px;overflow: hidden;padding: 0;position: absolute;width: 1px;}#sk-container-id-1 div.sk-estimator {font-family: monospace;background-color: #f0f8ff;border: 1px dotted black;border-radius: 0.25em;box-sizing: border-box;margin-bottom: 0.5em;}#sk-container-id-1 div.sk-estimator:hover {background-color: #d4ebff;}#sk-container-id-1 div.sk-parallel-item::after {content: \"\";width: 100%;border-bottom: 1px solid gray;flex-grow: 1;}#sk-container-id-1 div.sk-label:hover label.sk-toggleable__label {background-color: #d4ebff;}#sk-container-id-1 div.sk-serial::before {content: \"\";position: absolute;border-left: 1px solid gray;box-sizing: border-box;top: 0;bottom: 0;left: 50%;z-index: 0;}#sk-container-id-1 div.sk-serial {display: flex;flex-direction: column;align-items: center;background-color: white;padding-right: 0.2em;padding-left: 0.2em;position: relative;}#sk-container-id-1 div.sk-item {position: relative;z-index: 1;}#sk-container-id-1 div.sk-parallel {display: flex;align-items: stretch;justify-content: center;background-color: white;position: relative;}#sk-container-id-1 div.sk-item::before, #sk-container-id-1 div.sk-parallel-item::before {content: \"\";position: absolute;border-left: 1px solid gray;box-sizing: border-box;top: 0;bottom: 0;left: 50%;z-index: -1;}#sk-container-id-1 div.sk-parallel-item {display: flex;flex-direction: column;z-index: 1;position: relative;background-color: white;}#sk-container-id-1 div.sk-parallel-item:first-child::after {align-self: flex-end;width: 50%;}#sk-container-id-1 div.sk-parallel-item:last-child::after {align-self: flex-start;width: 50%;}#sk-container-id-1 div.sk-parallel-item:only-child::after {width: 0;}#sk-container-id-1 div.sk-dashed-wrapped {border: 1px dashed gray;margin: 0 0.4em 0.5em 0.4em;box-sizing: border-box;padding-bottom: 0.4em;background-color: white;}#sk-container-id-1 div.sk-label label {font-family: monospace;font-weight: bold;display: inline-block;line-height: 1.2em;}#sk-container-id-1 div.sk-label-container {text-align: center;}#sk-container-id-1 div.sk-container {/* jupyter's `normalize.less` sets `[hidden] { display: none; }` but bootstrap.min.css set `[hidden] { display: none !important; }` so we also need the `!important` here to be able to override the default hidden behavior on the sphinx rendered scikit-learn.org. See: https://github.com/scikit-learn/scikit-learn/issues/21755 */display: inline-block !important;position: relative;}#sk-container-id-1 div.sk-text-repr-fallback {display: none;}</style><div id=\"sk-container-id-1\" class=\"sk-top-container\"><div class=\"sk-text-repr-fallback\"><pre>RandomForestClassifier()</pre><b>In a Jupyter environment, please rerun this cell to show the HTML representation or trust the notebook. <br />On GitHub, the HTML representation is unable to render, please try loading this page with nbviewer.org.</b></div><div class=\"sk-container\" hidden><div class=\"sk-item\"><div class=\"sk-estimator sk-toggleable\"><input class=\"sk-toggleable__control sk-hidden--visually\" id=\"sk-estimator-id-1\" type=\"checkbox\" checked><label for=\"sk-estimator-id-1\" class=\"sk-toggleable__label sk-toggleable__label-arrow\">RandomForestClassifier</label><div class=\"sk-toggleable__content\"><pre>RandomForestClassifier()</pre></div></div></div></div></div>"
            ]
          },
          "metadata": {},
          "execution_count": 35
        }
      ]
    },
    {
      "cell_type": "code",
      "source": [
        "pred = rfc.predict(X_test)"
      ],
      "metadata": {
        "execution": {
          "iopub.status.busy": "2023-09-11T05:58:59.841588Z",
          "iopub.execute_input": "2023-09-11T05:58:59.842099Z",
          "iopub.status.idle": "2023-09-11T05:59:00.504276Z",
          "shell.execute_reply.started": "2023-09-11T05:58:59.842058Z",
          "shell.execute_reply": "2023-09-11T05:59:00.502823Z"
        },
        "trusted": true,
        "id": "sCgGv10H0_RY"
      },
      "execution_count": 36,
      "outputs": []
    },
    {
      "cell_type": "code",
      "source": [
        "acc = accuracy_score(y_test, pred)\n",
        "acc"
      ],
      "metadata": {
        "execution": {
          "iopub.status.busy": "2023-09-11T06:01:23.179896Z",
          "iopub.execute_input": "2023-09-11T06:01:23.180327Z",
          "iopub.status.idle": "2023-09-11T06:01:23.193919Z",
          "shell.execute_reply.started": "2023-09-11T06:01:23.180297Z",
          "shell.execute_reply": "2023-09-11T06:01:23.192600Z"
        },
        "trusted": true,
        "id": "zhAJ7wVK0_RZ",
        "colab": {
          "base_uri": "https://localhost:8080/"
        },
        "outputId": "a1f76f07-0f49-415f-8dba-cdc6d96f9e6d"
      },
      "execution_count": 37,
      "outputs": [
        {
          "output_type": "execute_result",
          "data": {
            "text/plain": [
              "0.9996365862055775"
            ]
          },
          "metadata": {},
          "execution_count": 37
        }
      ]
    },
    {
      "cell_type": "code",
      "source": [
        "prec = precision_score(y_test, pred)\n",
        "prec"
      ],
      "metadata": {
        "execution": {
          "iopub.status.busy": "2023-09-11T06:01:53.483053Z",
          "iopub.execute_input": "2023-09-11T06:01:53.483457Z",
          "iopub.status.idle": "2023-09-11T06:01:53.509125Z",
          "shell.execute_reply.started": "2023-09-11T06:01:53.483426Z",
          "shell.execute_reply": "2023-09-11T06:01:53.507553Z"
        },
        "trusted": true,
        "id": "1LbVC_Cu0_Ra",
        "colab": {
          "base_uri": "https://localhost:8080/"
        },
        "outputId": "cd9cf426-6a71-4770-9b14-6399567807bd"
      },
      "execution_count": 38,
      "outputs": [
        {
          "output_type": "execute_result",
          "data": {
            "text/plain": [
              "0.9054054054054054"
            ]
          },
          "metadata": {},
          "execution_count": 38
        }
      ]
    },
    {
      "cell_type": "code",
      "source": [
        "rec = recall_score(y_test, pred)\n",
        "rec"
      ],
      "metadata": {
        "execution": {
          "iopub.status.busy": "2023-09-11T06:02:33.645105Z",
          "iopub.execute_input": "2023-09-11T06:02:33.645515Z",
          "iopub.status.idle": "2023-09-11T06:02:33.674491Z",
          "shell.execute_reply.started": "2023-09-11T06:02:33.645484Z",
          "shell.execute_reply": "2023-09-11T06:02:33.673393Z"
        },
        "trusted": true,
        "id": "Wj1Im6lx0_Rb",
        "colab": {
          "base_uri": "https://localhost:8080/"
        },
        "outputId": "885728cd-9ef9-4f8f-c2d3-100dc7fbba5d"
      },
      "execution_count": 39,
      "outputs": [
        {
          "output_type": "execute_result",
          "data": {
            "text/plain": [
              "0.8481012658227848"
            ]
          },
          "metadata": {},
          "execution_count": 39
        }
      ]
    },
    {
      "cell_type": "code",
      "source": [
        "f1 = f1_score(y_test, pred)\n",
        "f1"
      ],
      "metadata": {
        "execution": {
          "iopub.status.busy": "2023-09-11T06:03:11.319805Z",
          "iopub.execute_input": "2023-09-11T06:03:11.320220Z",
          "iopub.status.idle": "2023-09-11T06:03:11.346378Z",
          "shell.execute_reply.started": "2023-09-11T06:03:11.320190Z",
          "shell.execute_reply": "2023-09-11T06:03:11.345159Z"
        },
        "trusted": true,
        "id": "mqaECDwh0_Rb",
        "colab": {
          "base_uri": "https://localhost:8080/"
        },
        "outputId": "c2653143-dea5-4d48-c8e8-0670626d37a5"
      },
      "execution_count": 40,
      "outputs": [
        {
          "output_type": "execute_result",
          "data": {
            "text/plain": [
              "0.8758169934640523"
            ]
          },
          "metadata": {},
          "execution_count": 40
        }
      ]
    },
    {
      "cell_type": "code",
      "source": [
        "mcc = matthews_corrcoef(y_test, pred)\n",
        "mcc"
      ],
      "metadata": {
        "execution": {
          "iopub.status.busy": "2023-09-11T06:03:35.429304Z",
          "iopub.execute_input": "2023-09-11T06:03:35.430001Z",
          "iopub.status.idle": "2023-09-11T06:03:35.462856Z",
          "shell.execute_reply.started": "2023-09-11T06:03:35.429942Z",
          "shell.execute_reply": "2023-09-11T06:03:35.461619Z"
        },
        "trusted": true,
        "id": "cEnHfb7l0_Rc",
        "colab": {
          "base_uri": "https://localhost:8080/"
        },
        "outputId": "dc8f9e6f-9d95-42a0-8407-50de8b4afa6a"
      },
      "execution_count": 41,
      "outputs": [
        {
          "output_type": "execute_result",
          "data": {
            "text/plain": [
              "0.8761045358600771"
            ]
          },
          "metadata": {},
          "execution_count": 41
        }
      ]
    },
    {
      "cell_type": "code",
      "source": [
        "labels = ['Normal', 'Fraud']\n",
        "conf_matrix = confusion_matrix(y_test, pred)\n",
        "plt.figure(figsize = (6, 4))\n",
        "sns.heatmap(conf_matrix, xticklabels = labels, yticklabels = labels, annot = True,\n",
        "           fmt = 'd')\n",
        "plt.title('confusion matrix')\n",
        "plt.ylabel('True Class')\n",
        "plt.xlabel('Predicted Class')\n",
        "plt.show()"
      ],
      "metadata": {
        "execution": {
          "iopub.status.busy": "2023-09-11T06:07:00.895869Z",
          "iopub.execute_input": "2023-09-11T06:07:00.896335Z",
          "iopub.status.idle": "2023-09-11T06:07:01.269970Z",
          "shell.execute_reply.started": "2023-09-11T06:07:00.896290Z",
          "shell.execute_reply": "2023-09-11T06:07:01.269069Z"
        },
        "trusted": true,
        "id": "2gGdkeJ00_Rd",
        "colab": {
          "base_uri": "https://localhost:8080/",
          "height": 410
        },
        "outputId": "5daf527d-e19f-4307-9677-bd01e16e8875"
      },
      "execution_count": 44,
      "outputs": [
        {
          "output_type": "display_data",
          "data": {
            "text/plain": [
              "<Figure size 600x400 with 2 Axes>"
            ],
            "image/png": "[encoded data removed]"
          },
          "metadata": {}
        }
      ]
    }
  ]
}